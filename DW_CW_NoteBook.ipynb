{
    "metadata": {
        "kernelspec": {
            "name": "SQL",
            "display_name": "SQL",
            "language": "sql"
        },
        "language_info": {
            "name": "sql",
            "version": ""
        }
    },
    "nbformat_minor": 2,
    "nbformat": 4,
    "cells": [
        {
            "cell_type": "code",
            "source": [
                "CREATE TABLE Sales (\n",
                "    Id INT NOT NULL IDENTITY(1,1) PRIMARY KEY,\n",
                "    Product VARCHAR(255),\n",
                "    Date int,\n",
                "    Sale int \n",
                ");"
            ],
            "metadata": {
                "azdata_cell_guid": "ad7eca9c-9128-4d2d-a438-1b12dd3d0240",
                "language": "sql",
                "tags": []
            },
            "outputs": [
                {
                    "output_type": "display_data",
                    "data": {
                        "text/html": "Commands completed successfully."
                    },
                    "metadata": {}
                },
                {
                    "output_type": "display_data",
                    "data": {
                        "text/html": "Total execution time: 00:00:00.027"
                    },
                    "metadata": {}
                }
            ],
            "execution_count": 1
        },
        {
            "cell_type": "code",
            "source": [
                "INSERT INTO Sales (Product,Date,Sale) VALUES\n",
                "('Prod1',2017,999999),\n",
                "('Prod2',2016,99999),\n",
                "('Prod3',2018,9999);"
            ],
            "metadata": {
                "language": "sql",
                "azdata_cell_guid": "6615b0c0-dd98-4839-8246-5d4622993175",
                "tags": []
            },
            "outputs": [
                {
                    "output_type": "display_data",
                    "data": {
                        "text/html": "(3 rows affected)"
                    },
                    "metadata": {}
                },
                {
                    "output_type": "display_data",
                    "data": {
                        "text/html": "Total execution time: 00:00:00.019"
                    },
                    "metadata": {}
                }
            ],
            "execution_count": 2
        },
        {
            "cell_type": "code",
            "source": [
                "SELECT * FROM Sales"
            ],
            "metadata": {
                "language": "sql",
                "azdata_cell_guid": "2b13fcd9-d563-4fab-9bf5-f9d7fb2fd6b4"
            },
            "outputs": [
                {
                    "output_type": "display_data",
                    "data": {
                        "text/html": "(3 rows affected)"
                    },
                    "metadata": {}
                },
                {
                    "output_type": "display_data",
                    "data": {
                        "text/html": "Total execution time: 00:00:00.061"
                    },
                    "metadata": {}
                },
                {
                    "output_type": "execute_result",
                    "execution_count": 3,
                    "data": {
                        "application/vnd.dataresource+json": {
                            "schema": {
                                "fields": [
                                    {
                                        "name": "Id"
                                    },
                                    {
                                        "name": "Product"
                                    },
                                    {
                                        "name": "Date"
                                    },
                                    {
                                        "name": "Sale"
                                    }
                                ]
                            },
                            "data": [
                                {
                                    "0": "1",
                                    "1": "Prod1",
                                    "2": "2017",
                                    "3": "999999"
                                },
                                {
                                    "0": "2",
                                    "1": "Prod2",
                                    "2": "2016",
                                    "3": "99999"
                                },
                                {
                                    "0": "3",
                                    "1": "Prod3",
                                    "2": "2018",
                                    "3": "9999"
                                }
                            ]
                        },
                        "text/html": "<table><tr><th>Id</th><th>Product</th><th>Date</th><th>Sale</th></tr><tr><td>1</td><td>Prod1</td><td>2017</td><td>999999</td></tr><tr><td>2</td><td>Prod2</td><td>2016</td><td>99999</td></tr><tr><td>3</td><td>Prod3</td><td>2018</td><td>9999</td></tr></table>"
                    },
                    "metadata": {}
                }
            ],
            "execution_count": 3
        },
        {
            "cell_type": "code",
            "source": [
                "SELECT * FROM (\n",
                "    SELECT \n",
                "    [Product],\n",
                "    [Date],\n",
                "    [Sale]\n",
                "    FROM Sales \n",
                ") SalesResults\n",
                "PIVOT (\n",
                "    SUM([Sale])\n",
                "    FOR [Date]\n",
                "    IN (\n",
                "        [2016],\n",
                "        [2017],\n",
                "        [2018],\n",
                "        [2019]\n",
                "    )\n",
                ") AS PivotTable"
            ],
            "metadata": {
                "language": "sql",
                "azdata_cell_guid": "d3a0d5d4-2c51-44f8-8893-fa0b41c088c8"
            },
            "outputs": [
                {
                    "output_type": "display_data",
                    "data": {
                        "text/html": "(3 rows affected)"
                    },
                    "metadata": {}
                },
                {
                    "output_type": "display_data",
                    "data": {
                        "text/html": "Total execution time: 00:00:00.010"
                    },
                    "metadata": {}
                },
                {
                    "output_type": "execute_result",
                    "execution_count": 22,
                    "data": {
                        "application/vnd.dataresource+json": {
                            "schema": {
                                "fields": [
                                    {
                                        "name": "Product"
                                    },
                                    {
                                        "name": "2016"
                                    },
                                    {
                                        "name": "2017"
                                    },
                                    {
                                        "name": "2018"
                                    },
                                    {
                                        "name": "2019"
                                    }
                                ]
                            },
                            "data": [
                                {
                                    "0": "Prod1",
                                    "1": "NULL",
                                    "2": "999999",
                                    "3": "NULL",
                                    "4": "NULL"
                                },
                                {
                                    "0": "Prod2",
                                    "1": "99999",
                                    "2": "NULL",
                                    "3": "NULL",
                                    "4": "NULL"
                                },
                                {
                                    "0": "Prod3",
                                    "1": "NULL",
                                    "2": "NULL",
                                    "3": "9999",
                                    "4": "NULL"
                                }
                            ]
                        },
                        "text/html": "<table><tr><th>Product</th><th>2016</th><th>2017</th><th>2018</th><th>2019</th></tr><tr><td>Prod1</td><td>NULL</td><td>999999</td><td>NULL</td><td>NULL</td></tr><tr><td>Prod2</td><td>99999</td><td>NULL</td><td>NULL</td><td>NULL</td></tr><tr><td>Prod3</td><td>NULL</td><td>NULL</td><td>9999</td><td>NULL</td></tr></table>"
                    },
                    "metadata": {}
                }
            ],
            "execution_count": 22
        },
        {
            "cell_type": "code",
            "source": [
                "CREATE PROCEDURE dbo.DynamicPivotTableInSq\n",
                "  @ColumnToPivot  NVARCHAR(255),\n",
                "  @ListToPivot    NVARCHAR(255)\n",
                "AS\n",
                "BEGIN\n",
                " \n",
                "  DECLARE @SqlStatement NVARCHAR(MAX)\n",
                "  SET @SqlStatement = N'\n",
                "    SELECT * FROM (\n",
                "    SELECT \n",
                "    [Product],\n",
                "    [Date],\n",
                "    [Sale]\n",
                "    FROM Sales \n",
                ") SalesResults\n",
                "PIVOT (\n",
                "    SUM([Sale])\n",
                "    FOR ['+@ColumnToPivot+']\n",
                "    IN (\n",
                "        '+@ListToPivot+'\n",
                "    )\n",
                ") AS PivotTable\n",
                "  ';\n",
                " \n",
                "  EXEC(@SqlStatement)\n",
                " \n",
                "END"
            ],
            "metadata": {
                "language": "sql",
                "azdata_cell_guid": "4bcdb6ea-aa82-487e-bba8-a592a2286f6f"
            },
            "outputs": [
                {
                    "output_type": "display_data",
                    "data": {
                        "text/html": "Commands completed successfully."
                    },
                    "metadata": {}
                },
                {
                    "output_type": "display_data",
                    "data": {
                        "text/html": "Total execution time: 00:00:00.004"
                    },
                    "metadata": {}
                }
            ],
            "execution_count": 23
        },
        {
            "cell_type": "code",
            "source": [
                "EXEC dbo.DynamicPivotTableInSq\n",
                "  N'Date'\n",
                "  ,N'[2016],[2017],[2018]'"
            ],
            "metadata": {
                "language": "sql",
                "azdata_cell_guid": "38a290c7-7e6c-4483-9aec-24b02a06491b",
                "tags": []
            },
            "outputs": [
                {
                    "output_type": "display_data",
                    "data": {
                        "text/html": "(3 rows affected)"
                    },
                    "metadata": {}
                },
                {
                    "output_type": "display_data",
                    "data": {
                        "text/html": "Total execution time: 00:00:00.007"
                    },
                    "metadata": {}
                },
                {
                    "output_type": "execute_result",
                    "execution_count": 24,
                    "data": {
                        "application/vnd.dataresource+json": {
                            "schema": {
                                "fields": [
                                    {
                                        "name": "Product"
                                    },
                                    {
                                        "name": "2016"
                                    },
                                    {
                                        "name": "2017"
                                    },
                                    {
                                        "name": "2018"
                                    }
                                ]
                            },
                            "data": [
                                {
                                    "0": "Prod1",
                                    "1": "NULL",
                                    "2": "999999",
                                    "3": "NULL"
                                },
                                {
                                    "0": "Prod2",
                                    "1": "99999",
                                    "2": "NULL",
                                    "3": "NULL"
                                },
                                {
                                    "0": "Prod3",
                                    "1": "NULL",
                                    "2": "NULL",
                                    "3": "9999"
                                }
                            ]
                        },
                        "text/html": "<table><tr><th>Product</th><th>2016</th><th>2017</th><th>2018</th></tr><tr><td>Prod1</td><td>NULL</td><td>999999</td><td>NULL</td></tr><tr><td>Prod2</td><td>99999</td><td>NULL</td><td>NULL</td></tr><tr><td>Prod3</td><td>NULL</td><td>NULL</td><td>9999</td></tr></table>"
                    },
                    "metadata": {}
                }
            ],
            "execution_count": 24
        },
        {
            "cell_type": "code",
            "source": [
                "DECLARE @cols AS NVARCHAR(MAX),\n",
                "    @query  AS NVARCHAR(MAX)\n",
                "\n",
                "select @cols = STUFF((SELECT ',' + QUOTENAME(Date) \n",
                "                    from Sales\n",
                "                    group by Date\n",
                "                    order by Date\n",
                "            FOR XML PATH(''), TYPE\n",
                "            ).value('.', 'NVARCHAR(MAX)') \n",
                "        ,1,1,'')\n",
                "\n",
                "set @query = 'CREATE VIEW  [mv_view1 ] AS \n",
                "SELECT Product,' + @cols + ' from \n",
                "             (\n",
                "                select Product, Date, Sale\n",
                "                from Sales\n",
                "            ) x\n",
                "            pivot \n",
                "            (\n",
                "                sum(Sale)\n",
                "                for Date in (' + @cols + ')\n",
                "            ) p '\n",
                "\n",
                "execute(@query);"
            ],
            "metadata": {
                "language": "sql",
                "azdata_cell_guid": "c36aad46-3339-4c2f-9ef6-5381033a5810",
                "tags": []
            },
            "outputs": [
                {
                    "output_type": "error",
                    "ename": "",
                    "evalue": "Msg 2714, Level 16, State 3, Procedure mv_view1 , Line 1\nThere is already an object named 'mv_view1 ' in the database.",
                    "traceback": []
                },
                {
                    "output_type": "display_data",
                    "data": {
                        "text/html": "Total execution time: 00:00:00.027"
                    },
                    "metadata": {}
                }
            ],
            "execution_count": 3
        },
        {
            "cell_type": "code",
            "source": [
                "SELECT * FROM mv_view1 "
            ],
            "metadata": {
                "azdata_cell_guid": "b6d44a38-9ffc-4c74-9660-2e4cc4786c9d",
                "language": "sql"
            },
            "outputs": [
                {
                    "output_type": "display_data",
                    "data": {
                        "text/html": "(3 rows affected)"
                    },
                    "metadata": {}
                },
                {
                    "output_type": "display_data",
                    "data": {
                        "text/html": "Total execution time: 00:00:00.128"
                    },
                    "metadata": {}
                },
                {
                    "output_type": "execute_result",
                    "execution_count": 4,
                    "data": {
                        "application/vnd.dataresource+json": {
                            "schema": {
                                "fields": [
                                    {
                                        "name": "Product"
                                    },
                                    {
                                        "name": "2016"
                                    },
                                    {
                                        "name": "2017"
                                    },
                                    {
                                        "name": "2018"
                                    }
                                ]
                            },
                            "data": [
                                {
                                    "0": "Prod1",
                                    "1": "NULL",
                                    "2": "999999",
                                    "3": "NULL"
                                },
                                {
                                    "0": "Prod2",
                                    "1": "99999",
                                    "2": "NULL",
                                    "3": "NULL"
                                },
                                {
                                    "0": "Prod3",
                                    "1": "NULL",
                                    "2": "NULL",
                                    "3": "9999"
                                }
                            ]
                        },
                        "text/html": "<table><tr><th>Product</th><th>2016</th><th>2017</th><th>2018</th></tr><tr><td>Prod1</td><td>NULL</td><td>999999</td><td>NULL</td></tr><tr><td>Prod2</td><td>99999</td><td>NULL</td><td>NULL</td></tr><tr><td>Prod3</td><td>NULL</td><td>NULL</td><td>9999</td></tr></table>"
                    },
                    "metadata": {}
                }
            ],
            "execution_count": 4
        },
        {
            "cell_type": "code",
            "source": [
                "CREATE TABLE Employee (\n",
                "    Id INT NOT NULL IDENTITY(1,1) PRIMARY KEY,\n",
                "    Name VARCHAR(255),\n",
                "    Manager_id int \n",
                ");"
            ],
            "metadata": {
                "language": "sql",
                "azdata_cell_guid": "e2b8e5ff-6438-4e47-942d-2c06c9c2e953"
            },
            "outputs": [
                {
                    "output_type": "display_data",
                    "data": {
                        "text/html": "Commands completed successfully."
                    },
                    "metadata": {}
                },
                {
                    "output_type": "display_data",
                    "data": {
                        "text/html": "Total execution time: 00:00:00.011"
                    },
                    "metadata": {}
                }
            ],
            "execution_count": 4
        },
        {
            "cell_type": "code",
            "source": [
                "INSERT INTO Employee (Name,Manager_id)\n",
                "VALUES \n",
                "('Silva',NULL),\n",
                "('Perera',1),\n",
                "('Sandun',1),\n",
                "('Mathan',2),\n",
                "('Abdul',2),\n",
                "('Mihindu',3);"
            ],
            "metadata": {
                "language": "sql",
                "azdata_cell_guid": "913c9f7d-b468-4141-bd27-dd55352afbcc"
            },
            "outputs": [
                {
                    "output_type": "display_data",
                    "data": {
                        "text/html": "(6 rows affected)"
                    },
                    "metadata": {}
                },
                {
                    "output_type": "display_data",
                    "data": {
                        "text/html": "Total execution time: 00:00:00.006"
                    },
                    "metadata": {}
                }
            ],
            "execution_count": 5
        },
        {
            "cell_type": "code",
            "source": [
                "SELECT * FROM Employee;"
            ],
            "metadata": {
                "language": "sql",
                "azdata_cell_guid": "b2571d39-99dd-4120-b07a-7c24b15469ba"
            },
            "outputs": [
                {
                    "output_type": "display_data",
                    "data": {
                        "text/html": "(6 rows affected)"
                    },
                    "metadata": {}
                },
                {
                    "output_type": "display_data",
                    "data": {
                        "text/html": "Total execution time: 00:00:00.006"
                    },
                    "metadata": {}
                },
                {
                    "output_type": "execute_result",
                    "execution_count": 6,
                    "data": {
                        "application/vnd.dataresource+json": {
                            "schema": {
                                "fields": [
                                    {
                                        "name": "Id"
                                    },
                                    {
                                        "name": "Name"
                                    },
                                    {
                                        "name": "Manager_id"
                                    }
                                ]
                            },
                            "data": [
                                {
                                    "0": "1",
                                    "1": "Silva",
                                    "2": "NULL"
                                },
                                {
                                    "0": "2",
                                    "1": "Perera",
                                    "2": "1"
                                },
                                {
                                    "0": "3",
                                    "1": "Sandun",
                                    "2": "1"
                                },
                                {
                                    "0": "4",
                                    "1": "Mathan",
                                    "2": "2"
                                },
                                {
                                    "0": "5",
                                    "1": "Abdul",
                                    "2": "2"
                                },
                                {
                                    "0": "6",
                                    "1": "Mihindu",
                                    "2": "3"
                                }
                            ]
                        },
                        "text/html": "<table><tr><th>Id</th><th>Name</th><th>Manager_id</th></tr><tr><td>1</td><td>Silva</td><td>NULL</td></tr><tr><td>2</td><td>Perera</td><td>1</td></tr><tr><td>3</td><td>Sandun</td><td>1</td></tr><tr><td>4</td><td>Mathan</td><td>2</td></tr><tr><td>5</td><td>Abdul</td><td>2</td></tr><tr><td>6</td><td>Mihindu</td><td>3</td></tr></table>"
                    },
                    "metadata": {}
                }
            ],
            "execution_count": 6
        },
        {
            "cell_type": "code",
            "source": [
                "SELECT \n",
                "sub.Name AS Employee_Name,\n",
                "sup.Name AS Manager_Name\n",
                "FROM Employee sub\n",
                "JOIN Employee sup\n",
                "ON sub.Manager_id = sup.Id;"
            ],
            "metadata": {
                "language": "sql",
                "azdata_cell_guid": "f4fd96b7-2885-4ec8-a78c-b25d2f8d9b13",
                "tags": []
            },
            "outputs": [
                {
                    "output_type": "display_data",
                    "data": {
                        "text/html": "(5 rows affected)"
                    },
                    "metadata": {}
                },
                {
                    "output_type": "display_data",
                    "data": {
                        "text/html": "Total execution time: 00:00:00.013"
                    },
                    "metadata": {}
                },
                {
                    "output_type": "execute_result",
                    "execution_count": 7,
                    "data": {
                        "application/vnd.dataresource+json": {
                            "schema": {
                                "fields": [
                                    {
                                        "name": "Employee_Name"
                                    },
                                    {
                                        "name": "Manager_Name"
                                    }
                                ]
                            },
                            "data": [
                                {
                                    "0": "Perera",
                                    "1": "Silva"
                                },
                                {
                                    "0": "Sandun",
                                    "1": "Silva"
                                },
                                {
                                    "0": "Mathan",
                                    "1": "Perera"
                                },
                                {
                                    "0": "Abdul",
                                    "1": "Perera"
                                },
                                {
                                    "0": "Mihindu",
                                    "1": "Sandun"
                                }
                            ]
                        },
                        "text/html": "<table><tr><th>Employee_Name</th><th>Manager_Name</th></tr><tr><td>Perera</td><td>Silva</td></tr><tr><td>Sandun</td><td>Silva</td></tr><tr><td>Mathan</td><td>Perera</td></tr><tr><td>Abdul</td><td>Perera</td></tr><tr><td>Mihindu</td><td>Sandun</td></tr></table>"
                    },
                    "metadata": {}
                }
            ],
            "execution_count": 7
        },
        {
            "cell_type": "code",
            "source": [
                "CREATE TABLE Product (\n",
                "    Id INT NOT NULL IDENTITY(1,1) PRIMARY KEY,\n",
                "    Product VARCHAR(255),\n",
                "    ProductType VARCHAR(255),\n",
                "    ProductCat VARCHAR(255) \n",
                ");"
            ],
            "metadata": {
                "language": "sql",
                "azdata_cell_guid": "2096090f-f8c4-4d75-b38e-f57ef4e2d700"
            },
            "outputs": [
                {
                    "output_type": "display_data",
                    "data": {
                        "text/html": "Commands completed successfully."
                    },
                    "metadata": {}
                },
                {
                    "output_type": "display_data",
                    "data": {
                        "text/html": "Total execution time: 00:00:00.008"
                    },
                    "metadata": {}
                }
            ],
            "execution_count": 31
        },
        {
            "cell_type": "code",
            "source": [
                "INSERT INTO Product (Product,ProductType,ProductCat) VALUES\n",
                "('Prod1','ProdType1','ProdCat1'),\n",
                "('Prod2','ProdType2','ProdCat2'),\n",
                "('Prod3','ProdType3','ProdCat3');"
            ],
            "metadata": {
                "language": "sql",
                "azdata_cell_guid": "111257d2-f63a-45fb-8e8e-7dc23035b5d9"
            },
            "outputs": [
                {
                    "output_type": "display_data",
                    "data": {
                        "text/html": "(3 rows affected)"
                    },
                    "metadata": {}
                },
                {
                    "output_type": "display_data",
                    "data": {
                        "text/html": "Total execution time: 00:00:00.006"
                    },
                    "metadata": {}
                }
            ],
            "execution_count": 32
        },
        {
            "cell_type": "code",
            "source": [
                "SELECT * FROM Product"
            ],
            "metadata": {
                "language": "sql",
                "azdata_cell_guid": "cab468de-db2d-4510-9af7-d770b9b3ddb8"
            },
            "outputs": [
                {
                    "output_type": "display_data",
                    "data": {
                        "text/html": "(3 rows affected)"
                    },
                    "metadata": {}
                },
                {
                    "output_type": "display_data",
                    "data": {
                        "text/html": "Total execution time: 00:00:00.004"
                    },
                    "metadata": {}
                },
                {
                    "output_type": "execute_result",
                    "execution_count": 33,
                    "data": {
                        "application/vnd.dataresource+json": {
                            "schema": {
                                "fields": [
                                    {
                                        "name": "Id"
                                    },
                                    {
                                        "name": "Product"
                                    },
                                    {
                                        "name": "ProductType"
                                    },
                                    {
                                        "name": "ProductCat"
                                    }
                                ]
                            },
                            "data": [
                                {
                                    "0": "1",
                                    "1": "Prod1",
                                    "2": "ProdType1",
                                    "3": "ProdCat1"
                                },
                                {
                                    "0": "2",
                                    "1": "Prod2",
                                    "2": "ProdType2",
                                    "3": "ProdCat2"
                                },
                                {
                                    "0": "3",
                                    "1": "Prod3",
                                    "2": "ProdType3",
                                    "3": "ProdCat3"
                                }
                            ]
                        },
                        "text/html": "<table><tr><th>Id</th><th>Product</th><th>ProductType</th><th>ProductCat</th></tr><tr><td>1</td><td>Prod1</td><td>ProdType1</td><td>ProdCat1</td></tr><tr><td>2</td><td>Prod2</td><td>ProdType2</td><td>ProdCat2</td></tr><tr><td>3</td><td>Prod3</td><td>ProdType3</td><td>ProdCat3</td></tr></table>"
                    },
                    "metadata": {}
                }
            ],
            "execution_count": 33
        },
        {
            "cell_type": "code",
            "source": [
                "SELECT \n",
                "prod.Product, \n",
                "prod.ProductType, \n",
                "prod.ProductCat, \n",
                "sales.Date, \n",
                "sales.Sale\n",
                "FROM Product as prod\n",
                "JOIN Sales as sales\n",
                "ON prod.Product = sales.Product;"
            ],
            "metadata": {
                "language": "sql",
                "azdata_cell_guid": "217e760d-2914-449c-ac99-30ba8b54ee70",
                "tags": []
            },
            "outputs": [
                {
                    "output_type": "display_data",
                    "data": {
                        "text/html": "(3 rows affected)"
                    },
                    "metadata": {}
                },
                {
                    "output_type": "display_data",
                    "data": {
                        "text/html": "Total execution time: 00:00:00.005"
                    },
                    "metadata": {}
                },
                {
                    "output_type": "execute_result",
                    "execution_count": 39,
                    "data": {
                        "application/vnd.dataresource+json": {
                            "schema": {
                                "fields": [
                                    {
                                        "name": "Product"
                                    },
                                    {
                                        "name": "ProductType"
                                    },
                                    {
                                        "name": "ProductCat"
                                    },
                                    {
                                        "name": "Date"
                                    },
                                    {
                                        "name": "Sale"
                                    }
                                ]
                            },
                            "data": [
                                {
                                    "0": "Prod1",
                                    "1": "ProdType1",
                                    "2": "ProdCat1",
                                    "3": "2017",
                                    "4": "999999"
                                },
                                {
                                    "0": "Prod2",
                                    "1": "ProdType2",
                                    "2": "ProdCat2",
                                    "3": "2016",
                                    "4": "99999"
                                },
                                {
                                    "0": "Prod3",
                                    "1": "ProdType3",
                                    "2": "ProdCat3",
                                    "3": "2018",
                                    "4": "9999"
                                }
                            ]
                        },
                        "text/html": "<table><tr><th>Product</th><th>ProductType</th><th>ProductCat</th><th>Date</th><th>Sale</th></tr><tr><td>Prod1</td><td>ProdType1</td><td>ProdCat1</td><td>2017</td><td>999999</td></tr><tr><td>Prod2</td><td>ProdType2</td><td>ProdCat2</td><td>2016</td><td>99999</td></tr><tr><td>Prod3</td><td>ProdType3</td><td>ProdCat3</td><td>2018</td><td>9999</td></tr></table>"
                    },
                    "metadata": {}
                }
            ],
            "execution_count": 39
        },
        {
            "cell_type": "code",
            "source": [
                "CREATE TABLE SalesSummarry (\n",
                "    Id INT NOT NULL IDENTITY(1,1) PRIMARY KEY,\n",
                "    Product VARCHAR(255),\n",
                "    Product_Type VARCHAR(255),\n",
                "    Product_Category VARCHAR(255),\n",
                "    Sales int \n",
                ");\n",
                "\n",
                ""
            ],
            "metadata": {
                "language": "sql",
                "azdata_cell_guid": "d9fe5344-465b-443c-968f-bddf6aec6110"
            },
            "outputs": [
                {
                    "output_type": "display_data",
                    "data": {
                        "text/html": "Commands completed successfully."
                    },
                    "metadata": {}
                },
                {
                    "output_type": "display_data",
                    "data": {
                        "text/html": "Total execution time: 00:00:00.012"
                    },
                    "metadata": {}
                }
            ],
            "execution_count": 8
        },
        {
            "cell_type": "code",
            "source": [
                "INSERT INTO SalesSummarry (Product,Product_Type,Product_Category,Sales) VALUES\n",
                "('Tshirt','Clothing','Top',4500),\n",
                "('Jeans','Clothing','Bottom',3000),\n",
                "('Shirt','Clothing','Top',7500),\n",
                "('Shorts','Clothing','Bottom',5000),\n",
                "('Bracelet','Jewelery','handJewels',1000),\n",
                "('Bangels','Jewelery','handJewels',1200),\n",
                "('diamondRings','Jewelery','rings',1100),\n",
                "('goldRings','Jewelery','rings',200);"
            ],
            "metadata": {
                "language": "sql",
                "azdata_cell_guid": "bb1f1f59-87fc-4d1f-9e5c-99536da4afde"
            },
            "outputs": [
                {
                    "output_type": "display_data",
                    "data": {
                        "text/html": "(8 rows affected)"
                    },
                    "metadata": {}
                },
                {
                    "output_type": "display_data",
                    "data": {
                        "text/html": "Total execution time: 00:00:00.048"
                    },
                    "metadata": {}
                }
            ],
            "execution_count": 9
        },
        {
            "cell_type": "code",
            "source": [
                "SELECT * FROM SalesSummarry;"
            ],
            "metadata": {
                "language": "sql",
                "azdata_cell_guid": "8a95e3f3-baf1-4eba-9bdf-abc692222288"
            },
            "outputs": [
                {
                    "output_type": "display_data",
                    "data": {
                        "text/html": "(8 rows affected)"
                    },
                    "metadata": {}
                },
                {
                    "output_type": "display_data",
                    "data": {
                        "text/html": "Total execution time: 00:00:00.009"
                    },
                    "metadata": {}
                },
                {
                    "output_type": "execute_result",
                    "execution_count": 10,
                    "data": {
                        "application/vnd.dataresource+json": {
                            "schema": {
                                "fields": [
                                    {
                                        "name": "Id"
                                    },
                                    {
                                        "name": "Product"
                                    },
                                    {
                                        "name": "Product_Type"
                                    },
                                    {
                                        "name": "Product_Category"
                                    },
                                    {
                                        "name": "Sales"
                                    }
                                ]
                            },
                            "data": [
                                {
                                    "0": "1",
                                    "1": "Tshirt",
                                    "2": "Clothing",
                                    "3": "Top",
                                    "4": "4500"
                                },
                                {
                                    "0": "2",
                                    "1": "Jeans",
                                    "2": "Clothing",
                                    "3": "Bottom",
                                    "4": "3000"
                                },
                                {
                                    "0": "3",
                                    "1": "Shirt",
                                    "2": "Clothing",
                                    "3": "Top",
                                    "4": "7500"
                                },
                                {
                                    "0": "4",
                                    "1": "Shorts",
                                    "2": "Clothing",
                                    "3": "Bottom",
                                    "4": "5000"
                                },
                                {
                                    "0": "5",
                                    "1": "Bracelet",
                                    "2": "Jewelery",
                                    "3": "handJewels",
                                    "4": "1000"
                                },
                                {
                                    "0": "6",
                                    "1": "Bangels",
                                    "2": "Jewelery",
                                    "3": "handJewels",
                                    "4": "1200"
                                },
                                {
                                    "0": "7",
                                    "1": "diamondRings",
                                    "2": "Jewelery",
                                    "3": "rings",
                                    "4": "1100"
                                },
                                {
                                    "0": "8",
                                    "1": "goldRings",
                                    "2": "Jewelery",
                                    "3": "rings",
                                    "4": "200"
                                }
                            ]
                        },
                        "text/html": "<table><tr><th>Id</th><th>Product</th><th>Product_Type</th><th>Product_Category</th><th>Sales</th></tr><tr><td>1</td><td>Tshirt</td><td>Clothing</td><td>Top</td><td>4500</td></tr><tr><td>2</td><td>Jeans</td><td>Clothing</td><td>Bottom</td><td>3000</td></tr><tr><td>3</td><td>Shirt</td><td>Clothing</td><td>Top</td><td>7500</td></tr><tr><td>4</td><td>Shorts</td><td>Clothing</td><td>Bottom</td><td>5000</td></tr><tr><td>5</td><td>Bracelet</td><td>Jewelery</td><td>handJewels</td><td>1000</td></tr><tr><td>6</td><td>Bangels</td><td>Jewelery</td><td>handJewels</td><td>1200</td></tr><tr><td>7</td><td>diamondRings</td><td>Jewelery</td><td>rings</td><td>1100</td></tr><tr><td>8</td><td>goldRings</td><td>Jewelery</td><td>rings</td><td>200</td></tr></table>"
                    },
                    "metadata": {}
                }
            ],
            "execution_count": 10
        },
        {
            "cell_type": "code",
            "source": [
                "SELECT  Product_Type, Product_Category,Product, SUM(SalesSummarry.Sales) as TotalSales\n",
                "FROM SalesSummarry\n",
                "GROUP BY ROLLUP(Product_Type, Product_Category , Product)"
            ],
            "metadata": {
                "language": "sql",
                "azdata_cell_guid": "f185533d-6e8e-437e-b93a-40f3ea8696aa"
            },
            "outputs": [
                {
                    "output_type": "display_data",
                    "data": {
                        "text/html": "(15 rows affected)"
                    },
                    "metadata": {}
                },
                {
                    "output_type": "display_data",
                    "data": {
                        "text/html": "Total execution time: 00:00:00.028"
                    },
                    "metadata": {}
                },
                {
                    "output_type": "execute_result",
                    "execution_count": 11,
                    "data": {
                        "application/vnd.dataresource+json": {
                            "schema": {
                                "fields": [
                                    {
                                        "name": "Product_Type"
                                    },
                                    {
                                        "name": "Product_Category"
                                    },
                                    {
                                        "name": "Product"
                                    },
                                    {
                                        "name": "TotalSales"
                                    }
                                ]
                            },
                            "data": [
                                {
                                    "0": "Clothing",
                                    "1": "Bottom",
                                    "2": "Jeans",
                                    "3": "3000"
                                },
                                {
                                    "0": "Clothing",
                                    "1": "Bottom",
                                    "2": "Shorts",
                                    "3": "5000"
                                },
                                {
                                    "0": "Clothing",
                                    "1": "Bottom",
                                    "2": "NULL",
                                    "3": "8000"
                                },
                                {
                                    "0": "Clothing",
                                    "1": "Top",
                                    "2": "Shirt",
                                    "3": "7500"
                                },
                                {
                                    "0": "Clothing",
                                    "1": "Top",
                                    "2": "Tshirt",
                                    "3": "4500"
                                },
                                {
                                    "0": "Clothing",
                                    "1": "Top",
                                    "2": "NULL",
                                    "3": "12000"
                                },
                                {
                                    "0": "Clothing",
                                    "1": "NULL",
                                    "2": "NULL",
                                    "3": "20000"
                                },
                                {
                                    "0": "Jewelery",
                                    "1": "handJewels",
                                    "2": "Bangels",
                                    "3": "1200"
                                },
                                {
                                    "0": "Jewelery",
                                    "1": "handJewels",
                                    "2": "Bracelet",
                                    "3": "1000"
                                },
                                {
                                    "0": "Jewelery",
                                    "1": "handJewels",
                                    "2": "NULL",
                                    "3": "2200"
                                },
                                {
                                    "0": "Jewelery",
                                    "1": "rings",
                                    "2": "diamondRings",
                                    "3": "1100"
                                },
                                {
                                    "0": "Jewelery",
                                    "1": "rings",
                                    "2": "goldRings",
                                    "3": "200"
                                },
                                {
                                    "0": "Jewelery",
                                    "1": "rings",
                                    "2": "NULL",
                                    "3": "1300"
                                },
                                {
                                    "0": "Jewelery",
                                    "1": "NULL",
                                    "2": "NULL",
                                    "3": "3500"
                                },
                                {
                                    "0": "NULL",
                                    "1": "NULL",
                                    "2": "NULL",
                                    "3": "23500"
                                }
                            ]
                        },
                        "text/html": "<table><tr><th>Product_Type</th><th>Product_Category</th><th>Product</th><th>TotalSales</th></tr><tr><td>Clothing</td><td>Bottom</td><td>Jeans</td><td>3000</td></tr><tr><td>Clothing</td><td>Bottom</td><td>Shorts</td><td>5000</td></tr><tr><td>Clothing</td><td>Bottom</td><td>NULL</td><td>8000</td></tr><tr><td>Clothing</td><td>Top</td><td>Shirt</td><td>7500</td></tr><tr><td>Clothing</td><td>Top</td><td>Tshirt</td><td>4500</td></tr><tr><td>Clothing</td><td>Top</td><td>NULL</td><td>12000</td></tr><tr><td>Clothing</td><td>NULL</td><td>NULL</td><td>20000</td></tr><tr><td>Jewelery</td><td>handJewels</td><td>Bangels</td><td>1200</td></tr><tr><td>Jewelery</td><td>handJewels</td><td>Bracelet</td><td>1000</td></tr><tr><td>Jewelery</td><td>handJewels</td><td>NULL</td><td>2200</td></tr><tr><td>Jewelery</td><td>rings</td><td>diamondRings</td><td>1100</td></tr><tr><td>Jewelery</td><td>rings</td><td>goldRings</td><td>200</td></tr><tr><td>Jewelery</td><td>rings</td><td>NULL</td><td>1300</td></tr><tr><td>Jewelery</td><td>NULL</td><td>NULL</td><td>3500</td></tr><tr><td>NULL</td><td>NULL</td><td>NULL</td><td>23500</td></tr></table>"
                    },
                    "metadata": {}
                }
            ],
            "execution_count": 11
        },
        {
            "cell_type": "code",
            "source": [
                "SELECT  Product_Type, Product_Category,Product, SUM(SalesSummarry.Sales) as TotalSales\n",
                "FROM SalesSummarry\n",
                "GROUP BY CUBE(Product_Type,Product_Category, Product)"
            ],
            "metadata": {
                "language": "sql",
                "azdata_cell_guid": "7a4faa71-cef0-403c-a049-a0ddda99ed72"
            },
            "outputs": [
                {
                    "output_type": "display_data",
                    "data": {
                        "text/html": "(43 rows affected)"
                    },
                    "metadata": {}
                },
                {
                    "output_type": "display_data",
                    "data": {
                        "text/html": "Total execution time: 00:00:00.013"
                    },
                    "metadata": {}
                },
                {
                    "output_type": "execute_result",
                    "execution_count": 12,
                    "data": {
                        "application/vnd.dataresource+json": {
                            "schema": {
                                "fields": [
                                    {
                                        "name": "Product_Type"
                                    },
                                    {
                                        "name": "Product_Category"
                                    },
                                    {
                                        "name": "Product"
                                    },
                                    {
                                        "name": "TotalSales"
                                    }
                                ]
                            },
                            "data": [
                                {
                                    "0": "Jewelery",
                                    "1": "handJewels",
                                    "2": "Bangels",
                                    "3": "1200"
                                },
                                {
                                    "0": "NULL",
                                    "1": "handJewels",
                                    "2": "Bangels",
                                    "3": "1200"
                                },
                                {
                                    "0": "NULL",
                                    "1": "NULL",
                                    "2": "Bangels",
                                    "3": "1200"
                                },
                                {
                                    "0": "Jewelery",
                                    "1": "handJewels",
                                    "2": "Bracelet",
                                    "3": "1000"
                                },
                                {
                                    "0": "NULL",
                                    "1": "handJewels",
                                    "2": "Bracelet",
                                    "3": "1000"
                                },
                                {
                                    "0": "NULL",
                                    "1": "NULL",
                                    "2": "Bracelet",
                                    "3": "1000"
                                },
                                {
                                    "0": "Jewelery",
                                    "1": "rings",
                                    "2": "diamondRings",
                                    "3": "1100"
                                },
                                {
                                    "0": "NULL",
                                    "1": "rings",
                                    "2": "diamondRings",
                                    "3": "1100"
                                },
                                {
                                    "0": "NULL",
                                    "1": "NULL",
                                    "2": "diamondRings",
                                    "3": "1100"
                                },
                                {
                                    "0": "Jewelery",
                                    "1": "rings",
                                    "2": "goldRings",
                                    "3": "200"
                                },
                                {
                                    "0": "NULL",
                                    "1": "rings",
                                    "2": "goldRings",
                                    "3": "200"
                                },
                                {
                                    "0": "NULL",
                                    "1": "NULL",
                                    "2": "goldRings",
                                    "3": "200"
                                },
                                {
                                    "0": "Clothing",
                                    "1": "Bottom",
                                    "2": "Jeans",
                                    "3": "3000"
                                },
                                {
                                    "0": "NULL",
                                    "1": "Bottom",
                                    "2": "Jeans",
                                    "3": "3000"
                                },
                                {
                                    "0": "NULL",
                                    "1": "NULL",
                                    "2": "Jeans",
                                    "3": "3000"
                                },
                                {
                                    "0": "Clothing",
                                    "1": "Top",
                                    "2": "Shirt",
                                    "3": "7500"
                                },
                                {
                                    "0": "NULL",
                                    "1": "Top",
                                    "2": "Shirt",
                                    "3": "7500"
                                },
                                {
                                    "0": "NULL",
                                    "1": "NULL",
                                    "2": "Shirt",
                                    "3": "7500"
                                },
                                {
                                    "0": "Clothing",
                                    "1": "Bottom",
                                    "2": "Shorts",
                                    "3": "5000"
                                },
                                {
                                    "0": "NULL",
                                    "1": "Bottom",
                                    "2": "Shorts",
                                    "3": "5000"
                                },
                                {
                                    "0": "NULL",
                                    "1": "NULL",
                                    "2": "Shorts",
                                    "3": "5000"
                                },
                                {
                                    "0": "Clothing",
                                    "1": "Top",
                                    "2": "Tshirt",
                                    "3": "4500"
                                },
                                {
                                    "0": "NULL",
                                    "1": "Top",
                                    "2": "Tshirt",
                                    "3": "4500"
                                },
                                {
                                    "0": "NULL",
                                    "1": "NULL",
                                    "2": "Tshirt",
                                    "3": "4500"
                                },
                                {
                                    "0": "NULL",
                                    "1": "NULL",
                                    "2": "NULL",
                                    "3": "23500"
                                },
                                {
                                    "0": "Clothing",
                                    "1": "NULL",
                                    "2": "Jeans",
                                    "3": "3000"
                                },
                                {
                                    "0": "Clothing",
                                    "1": "NULL",
                                    "2": "Shirt",
                                    "3": "7500"
                                },
                                {
                                    "0": "Clothing",
                                    "1": "NULL",
                                    "2": "Shorts",
                                    "3": "5000"
                                },
                                {
                                    "0": "Clothing",
                                    "1": "NULL",
                                    "2": "Tshirt",
                                    "3": "4500"
                                },
                                {
                                    "0": "Clothing",
                                    "1": "NULL",
                                    "2": "NULL",
                                    "3": "20000"
                                },
                                {
                                    "0": "Jewelery",
                                    "1": "NULL",
                                    "2": "Bangels",
                                    "3": "1200"
                                },
                                {
                                    "0": "Jewelery",
                                    "1": "NULL",
                                    "2": "Bracelet",
                                    "3": "1000"
                                },
                                {
                                    "0": "Jewelery",
                                    "1": "NULL",
                                    "2": "diamondRings",
                                    "3": "1100"
                                },
                                {
                                    "0": "Jewelery",
                                    "1": "NULL",
                                    "2": "goldRings",
                                    "3": "200"
                                },
                                {
                                    "0": "Jewelery",
                                    "1": "NULL",
                                    "2": "NULL",
                                    "3": "3500"
                                },
                                {
                                    "0": "Clothing",
                                    "1": "Bottom",
                                    "2": "NULL",
                                    "3": "8000"
                                },
                                {
                                    "0": "NULL",
                                    "1": "Bottom",
                                    "2": "NULL",
                                    "3": "8000"
                                },
                                {
                                    "0": "Jewelery",
                                    "1": "handJewels",
                                    "2": "NULL",
                                    "3": "2200"
                                },
                                {
                                    "0": "NULL",
                                    "1": "handJewels",
                                    "2": "NULL",
                                    "3": "2200"
                                },
                                {
                                    "0": "Jewelery",
                                    "1": "rings",
                                    "2": "NULL",
                                    "3": "1300"
                                },
                                {
                                    "0": "NULL",
                                    "1": "rings",
                                    "2": "NULL",
                                    "3": "1300"
                                },
                                {
                                    "0": "Clothing",
                                    "1": "Top",
                                    "2": "NULL",
                                    "3": "12000"
                                },
                                {
                                    "0": "NULL",
                                    "1": "Top",
                                    "2": "NULL",
                                    "3": "12000"
                                }
                            ]
                        },
                        "text/html": "<table><tr><th>Product_Type</th><th>Product_Category</th><th>Product</th><th>TotalSales</th></tr><tr><td>Jewelery</td><td>handJewels</td><td>Bangels</td><td>1200</td></tr><tr><td>NULL</td><td>handJewels</td><td>Bangels</td><td>1200</td></tr><tr><td>NULL</td><td>NULL</td><td>Bangels</td><td>1200</td></tr><tr><td>Jewelery</td><td>handJewels</td><td>Bracelet</td><td>1000</td></tr><tr><td>NULL</td><td>handJewels</td><td>Bracelet</td><td>1000</td></tr><tr><td>NULL</td><td>NULL</td><td>Bracelet</td><td>1000</td></tr><tr><td>Jewelery</td><td>rings</td><td>diamondRings</td><td>1100</td></tr><tr><td>NULL</td><td>rings</td><td>diamondRings</td><td>1100</td></tr><tr><td>NULL</td><td>NULL</td><td>diamondRings</td><td>1100</td></tr><tr><td>Jewelery</td><td>rings</td><td>goldRings</td><td>200</td></tr><tr><td>NULL</td><td>rings</td><td>goldRings</td><td>200</td></tr><tr><td>NULL</td><td>NULL</td><td>goldRings</td><td>200</td></tr><tr><td>Clothing</td><td>Bottom</td><td>Jeans</td><td>3000</td></tr><tr><td>NULL</td><td>Bottom</td><td>Jeans</td><td>3000</td></tr><tr><td>NULL</td><td>NULL</td><td>Jeans</td><td>3000</td></tr><tr><td>Clothing</td><td>Top</td><td>Shirt</td><td>7500</td></tr><tr><td>NULL</td><td>Top</td><td>Shirt</td><td>7500</td></tr><tr><td>NULL</td><td>NULL</td><td>Shirt</td><td>7500</td></tr><tr><td>Clothing</td><td>Bottom</td><td>Shorts</td><td>5000</td></tr><tr><td>NULL</td><td>Bottom</td><td>Shorts</td><td>5000</td></tr><tr><td>NULL</td><td>NULL</td><td>Shorts</td><td>5000</td></tr><tr><td>Clothing</td><td>Top</td><td>Tshirt</td><td>4500</td></tr><tr><td>NULL</td><td>Top</td><td>Tshirt</td><td>4500</td></tr><tr><td>NULL</td><td>NULL</td><td>Tshirt</td><td>4500</td></tr><tr><td>NULL</td><td>NULL</td><td>NULL</td><td>23500</td></tr><tr><td>Clothing</td><td>NULL</td><td>Jeans</td><td>3000</td></tr><tr><td>Clothing</td><td>NULL</td><td>Shirt</td><td>7500</td></tr><tr><td>Clothing</td><td>NULL</td><td>Shorts</td><td>5000</td></tr><tr><td>Clothing</td><td>NULL</td><td>Tshirt</td><td>4500</td></tr><tr><td>Clothing</td><td>NULL</td><td>NULL</td><td>20000</td></tr><tr><td>Jewelery</td><td>NULL</td><td>Bangels</td><td>1200</td></tr><tr><td>Jewelery</td><td>NULL</td><td>Bracelet</td><td>1000</td></tr><tr><td>Jewelery</td><td>NULL</td><td>diamondRings</td><td>1100</td></tr><tr><td>Jewelery</td><td>NULL</td><td>goldRings</td><td>200</td></tr><tr><td>Jewelery</td><td>NULL</td><td>NULL</td><td>3500</td></tr><tr><td>Clothing</td><td>Bottom</td><td>NULL</td><td>8000</td></tr><tr><td>NULL</td><td>Bottom</td><td>NULL</td><td>8000</td></tr><tr><td>Jewelery</td><td>handJewels</td><td>NULL</td><td>2200</td></tr><tr><td>NULL</td><td>handJewels</td><td>NULL</td><td>2200</td></tr><tr><td>Jewelery</td><td>rings</td><td>NULL</td><td>1300</td></tr><tr><td>NULL</td><td>rings</td><td>NULL</td><td>1300</td></tr><tr><td>Clothing</td><td>Top</td><td>NULL</td><td>12000</td></tr><tr><td>NULL</td><td>Top</td><td>NULL</td><td>12000</td></tr></table>"
                    },
                    "metadata": {}
                }
            ],
            "execution_count": 12
        },
        {
            "cell_type": "code",
            "source": [
                "\n",
                "CREATE TABLE sales  \n",
                "( product varchar2(50) NOT NULL,  \n",
                "  date_year number(10),\n",
                "  sale number(10)\n",
                "); \n",
                "\n",
                "\n",
                "INSERT INTO sales  \n",
                "(product, date_year, sale)  \n",
                "VALUES  \n",
                "('Prod1',2017,999999);  \n",
                "\n",
                "INSERT INTO sales  \n",
                "(product, date_year, sale)  \n",
                "VALUES  \n",
                "('Prod2',2016,99999);  \n",
                "\n",
                "INSERT INTO sales  \n",
                "(product, date_year, sale)  \n",
                "VALUES  \n",
                "('Prod3',2018,9999);  \n",
                "\n",
                "INSERT INTO sales  \n",
                "(product, date_year, sale)  \n",
                "VALUES  \n",
                "('Prod3',2016,999); \n",
                "\n",
                "INSERT INTO sales  \n",
                "(product, date_year, sale)  \n",
                "VALUES  \n",
                "('Prod4',2019,99);\n",
                "\n",
                "select * from sales;\n",
                "\n",
                "declare\n",
                " sqlqry clob;\n",
                " cols clob;\n",
                "\n",
                "begin\n",
                "  select listagg('''' || date_year || ''' as \"' || date_year || '\"', ',') within group (order by date_year)\n",
                "  into   cols\n",
                "  from   (select distinct date_year from sales);\n",
                "\n",
                "\n",
                "  sqlqry :=\n",
                "  'create materialized view mv \n",
                "refresh complete on demand\n",
                "as   \n",
                "  select * from\n",
                "  (\n",
                "      select *\n",
                "      from sales\n",
                "  )\n",
                "  pivot\n",
                "  (\n",
                "    MIN(sale) for date_year in (' || cols  || ')\n",
                "  )';\n",
                "\n",
                "  execute immediate sqlqry;\n",
                "end;\n",
                "\n",
                "select * from mv;\n",
                "\n",
                "-- select * from cols;\n",
                "\n",
                "-- DROP MATERIALIZED VIEW mv;\n",
                "-- DROP TABLE sales PURGE;\n",
                "\n",
                "\n",
                "-- DROP MATERIALIZED VIEW mv_view1;\n",
                "-- DROP TABLE sales PURGE;\n",
                "\n",
                ""
            ],
            "metadata": {
                "language": "sql",
                "azdata_cell_guid": "c86944bf-ae70-4c75-86e3-369813751246"
            },
            "outputs": [],
            "execution_count": null
        },
        {
            "cell_type": "code",
            "source": [
                "CREATE TABLE sales_range \n",
                "(s_productid  NUMBER,\n",
                "   s_saledate   DATE,\n",
                "   s_custid     NUMBER,\n",
                "   s_totalprice NUMBER,\n",
                "   s_country VARCHAR2(30))\n",
                "COMPRESS\n",
                "PARTITION BY RANGE(s_saledate)\n",
                "(PARTITION sales_jan2000 VALUES LESS THAN(TO_DATE('02/01/2000','DD/MM/YYYY')),\n",
                " PARTITION sales_feb2000 VALUES LESS THAN(TO_DATE('03/01/2000','DD/MM/YYYY')),\n",
                " PARTITION sales_mar2000 VALUES LESS THAN(TO_DATE('04/01/2000','DD/MM/YYYY')),\n",
                " PARTITION sales_apr2000 VALUES LESS THAN(TO_DATE('05/01/2000','DD/MM/YYYY')));\n",
                " \n",
                " \n",
                " CREATE TABLE sales_list\n",
                "(s_productid  NUMBER,\n",
                "   s_saledate   DATE,\n",
                "   s_custid     NUMBER,\n",
                "   s_totalprice NUMBER,\n",
                "   s_country VARCHAR2(30))\n",
                "PARTITION BY LIST(s_country)\n",
                "(PARTITION sales_west VALUES('America', 'Canada') COMPRESS,\n",
                " PARTITION sales_east VALUES('Japan', 'China', 'Korea'),\n",
                " PARTITION sales_central VALUES('India', 'SriLanka'));\n",
                " \n",
                " \n",
                " CREATE TABLE quarterly_regional_sales\n",
                "(s_productid  NUMBER,\n",
                "   s_saledate   DATE,\n",
                "   s_custid     NUMBER,\n",
                "   s_totalprice NUMBER,\n",
                "   s_country VARCHAR2(30))\n",
                "PARTITION BY RANGE (s_saledate)\n",
                "SUBPARTITION BY LIST (s_country)\n",
                "(\n",
                "PARTITION q1_1999 VALUES LESS THAN(TO_DATE('1-APR-1999','DD-MON-YYYY'))\n",
                "(SUBPARTITION q1_1999_sales_west VALUES('America', 'Canada'), \n",
                "SUBPARTITION q1_1999_sales_east VALUES('Japan', 'China', 'Korea'),\n",
                "SUBPARTITION q1_1999_sales_central VALUES('India', 'SriLanka')));\n",
                "\n",
                "\n",
                "\n",
                "CREATE TABLE sales_list_country\n",
                "( s_productid  VARCHAR2(30),\n",
                "   s_saledate   DATE,\n",
                "   s_custid     NUMBER,\n",
                "   s_totalprice NUMBER,\n",
                "   s_productcategory VARCHAR2(30),\n",
                "   s_country VARCHAR2(30)\n",
                ") PARTITION BY LIST (s_country)\n",
                "SUBPARTITION BY LIST (s_productcategory)\n",
                "SUBPARTITION TEMPLATE\n",
                "( SUBPARTITION perishable VALUES ('DAIRY','PRODUCE','MEAT','BREAD')\n",
                ", SUBPARTITION non_perishable VALUES ('CANNED','PACKAGED')\n",
                ", SUBPARTITION durable VALUES ('TOYS','KITCHENWARE')\n",
                ")\n",
                "( PARTITION sales_west VALUES('America', 'Canada') ,\n",
                " PARTITION sales_east VALUES('Japan', 'China', 'Korea'),\n",
                " PARTITION sales_central VALUES('India', 'SriLanka')\n",
                ");\n",
                "\n",
                "CREATE INDEX s_country_ix ON sales_list_country(s_country)\n",
                "LOCAL PARALLEL NOLOGGING;\n",
                "\n",
                "CREATE INDEX s_productid_ix ON sales_list_country(s_productid)\n",
                "LOCAL PARALLEL NOLOGGING;"
            ],
            "metadata": {
                "azdata_cell_guid": "a3264b63-3ad2-4c91-b4f7-f0a6cce5b603",
                "language": "sql"
            },
            "outputs": [],
            "execution_count": null
        }
    ]
}